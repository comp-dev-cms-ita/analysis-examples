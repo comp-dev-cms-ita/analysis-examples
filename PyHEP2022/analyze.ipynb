{
 "cells": [
  {
   "cell_type": "code",
   "execution_count": 1,
   "id": "8fde76b0-d01a-4082-aac3-907f67d90bc7",
   "metadata": {},
   "outputs": [],
   "source": [
    "%%capture\n",
    "\n",
    "import ROOT\n",
    "import os\n",
    "from dask.distributed import Client\n",
    "#from utils import *\n",
    "import logging\n",
    "\n",
    "logger = logging.getLogger(__name__)\n",
    "logging.disable('WARNING')\n",
    "\n",
    "#ROOT.RDF.Experimental.Distributed.open_files_locally = False\n",
    "\n",
    "nmaxpartitions = 3\n",
    "sched_port = 21539"
   ]
  },
  {
   "cell_type": "code",
   "execution_count": 2,
   "id": "85196955-742b-4d67-8144-601aa07f0f9e",
   "metadata": {},
   "outputs": [
    {
     "name": "stderr",
     "output_type": "stream",
     "text": [
      "/usr/local/lib/python3.8/dist-packages/distributed/client.py:1128: VersionMismatchWarning: Mismatched versions found\n",
      "\n",
      "+---------+--------+-----------+---------+\n",
      "| Package | client | scheduler | workers |\n",
      "+---------+--------+-----------+---------+\n",
      "| msgpack | 1.0.3  | 1.0.2     | 1.0.3   |\n",
      "| toolz   | 0.11.2 | 0.11.1    | 0.11.2  |\n",
      "+---------+--------+-----------+---------+\n",
      "Notes: \n",
      "-  msgpack: Variation is ok, as long as everything is above 0.6\n",
      "  warnings.warn(version_module.VersionMismatchWarning(msg[0][\"warning\"]))\n"
     ]
    }
   ],
   "source": [
    "client = Client(address=\"tcp://127.0.0.1:\"+str(sched_port))"
   ]
  },
  {
   "cell_type": "markdown",
   "id": "ba923a75",
   "metadata": {},
   "source": [
    "# Import utils functions"
   ]
  },
  {
   "cell_type": "code",
   "execution_count": 3,
   "id": "f83c9adf",
   "metadata": {},
   "outputs": [],
   "source": [
    "text_file = open(\"utils.h\", \"r\")\n",
    "data = text_file.read()\n",
    "\n",
    "\n",
    "def my_initialization_function():\n",
    "    ROOT.gInterpreter.Declare('{}'.format(data))\n",
    "    #from urllib import request\n",
    "    #modelName = \"dummy_pyHEP\"\n",
    "    #request.urlretrieve(\"https://vbs-pg-support.web.cern.ch/models/{}.hxx\".format(modelName), \"{}.hxx\".format(modelName))\n",
    "    #request.urlretrieve(\"https://vbs-pg-support.web.cern.ch/models/{}.dat\".format(modelName), \"{}.dat\".format(modelName))\n",
    "    #ROOT.gInterpreter.Declare('#include \"' + modelName + '.hxx\"')\n",
    "    #ROOT.gInterpreter.Declare('auto sofie_functor = TMVA::Experimental::SofieFunctor<5,TMVA_SOFIE_'+modelName+'::Session>(0);')\n",
    "\n",
    "\n",
    "client = Client(address=\"tcp://127.0.0.1:\"+str(sched_port))\n",
    "ROOT.RDF.Experimental.Distributed.initialize(my_initialization_function)"
   ]
  },
  {
   "cell_type": "markdown",
   "id": "d642e3f0",
   "metadata": {},
   "source": [
    "# Define samples to be analyzed"
   ]
  },
  {
   "cell_type": "code",
   "execution_count": 4,
   "id": "a8b210e5-d575-437e-bd20-3adbeec914d1",
   "metadata": {},
   "outputs": [],
   "source": [
    "chain = \"root://eospublic.cern.ch//eos/root-eos/cms_opendata_2012_nanoaod/ZZTo2e2mu.root\""
   ]
  },
  {
   "cell_type": "markdown",
   "id": "bf299b24-6b9b-4514-b8cb-2148c1d5fc58",
   "metadata": {},
   "source": [
    "# Do analysis"
   ]
  },
  {
   "cell_type": "code",
   "execution_count": 5,
   "id": "9f6d2f59-7611-436a-a3e0-57cdda403388",
   "metadata": {},
   "outputs": [],
   "source": [
    "h = {}"
   ]
  },
  {
   "cell_type": "code",
   "execution_count": 6,
   "id": "b72d3fd3-06c3-441e-aba2-729e63baad0d",
   "metadata": {},
   "outputs": [
    {
     "name": "stderr",
     "output_type": "stream",
     "text": [
      "/usr/local/lib/python3.8/dist-packages/dask_jobqueue/core.py:20: FutureWarning: tmpfile is deprecated and will be removed in a future release. Please use dask.utils.tmpfile instead.\n",
      "  from distributed.utils import tmpfile\n"
     ]
    }
   ],
   "source": [
    "#df = ROOT.RDataFrame(\"Events\", chain)   \n",
    "df = ROOT.RDF.Experimental.Distributed.Dask.RDataFrame(\"Events\", chain, npartitions=nmaxpartitions, daskclient=client)   \n",
    "\n",
    "h = df.Vary(\"Muon_pt\", \"ROOT::VecOps::RVec<ROOT::VecOps::RVec<float>>{Muon_pt*0.8, Muon_pt*1.2}\", variationTags=[\"down\", \"up\"], variationName=\"dummyVariation\")\\\n",
    "      .Define(\"SelectedMu_pt\", \"Muon_pt[0]\")\\\n",
    "      .Filter(\"SelectedMu_pt > 30\", \"Filter on muons\")\\\n",
    "      .Histo1D((\"SelectedMu_pt\", \"\" , 10, 30, 130), \"SelectedMu_pt\")\n",
    "     #.Define(\"SMmodel\", \"sofie_functor(rdfslot_, Muon_pt[0], Muon_eta[0] , Electron_pt[0], Electron_eta[0])\")\\"
   ]
  },
  {
   "cell_type": "code",
   "execution_count": 7,
   "id": "7d3cbd20-0b44-42a4-9343-9ccaedf9eb91",
   "metadata": {},
   "outputs": [],
   "source": [
    "#h_varied = ROOT.RDF.Experimental.VariationsFor(h)\n",
    "h_varied = ROOT.RDF.Experimental.Distributed.VariationsFor(h)"
   ]
  },
  {
   "cell_type": "markdown",
   "id": "f1a73735-0f44-419e-ab20-c1ec88e98482",
   "metadata": {},
   "source": [
    "# Save histos"
   ]
  },
  {
   "cell_type": "code",
   "execution_count": 8,
   "id": "9bcc086c-10a2-46d1-9ef0-f490a3e6da86",
   "metadata": {},
   "outputs": [
    {
     "name": "stdout",
     "output_type": "stream",
     "text": [
      "CPU times: user 4 µs, sys: 2 µs, total: 6 µs\n",
      "Wall time: 9.06 µs\n"
     ]
    },
    {
     "data": {
      "image/png": "[encoded data removed]",
      "text/plain": [
       "<IPython.core.display.Image object>"
      ]
     },
     "metadata": {},
     "output_type": "display_data"
    }
   ],
   "source": [
    "%time\n",
    "c = ROOT.TCanvas()\n",
    "h_varied[\"dummyVariation:up\"].SetLineColor(1)\n",
    "h_varied[\"dummyVariation:up\"].Draw()\n",
    "h_varied[\"nominal\"].SetLineColor(2)\n",
    "h_varied[\"nominal\"].Draw('SAME')\n",
    "h_varied[\"dummyVariation:down\"].SetLineColor(3)\n",
    "h_varied[\"dummyVariation:down\"].Draw('SAME')\n",
    "c.Draw()"
   ]
  }
 ],
 "metadata": {
  "kernelspec": {
   "display_name": "Singularity Python 3 (ipykernel)",
   "language": "python",
   "name": "singularity-kernel"
  },
  "language_info": {
   "codemirror_mode": {
    "name": "ipython",
    "version": 3
   },
   "file_extension": ".py",
   "mimetype": "text/x-python",
   "name": "python",
   "nbconvert_exporter": "python",
   "pygments_lexer": "ipython3",
   "version": "3.8.10"
  }
 },
 "nbformat": 4,
 "nbformat_minor": 5
}
