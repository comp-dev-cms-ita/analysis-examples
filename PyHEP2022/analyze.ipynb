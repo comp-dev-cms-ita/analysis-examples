{
 "cells": [
  {
   "cell_type": "markdown",
   "id": "8b7521fa-e4f0-41a1-a93c-c49c5c50529e",
   "metadata": {},
   "source": [
    "# Example on INFN analysis facility with systematic variations\n",
    "Here we are going to perform  of the VBS with a lepton and a tau as final state reconstruction on an OpenData sample of W+Jets events.\n"
   ]
  },
  {
   "cell_type": "markdown",
   "id": "afdb3517-e879-41a0-958b-5f58bcac96a9",
   "metadata": {},
   "source": [
    "## Basic imports and definitions of number of parallel tasks and the Dask scheduler port"
   ]
  },
  {
   "cell_type": "code",
   "execution_count": 1,
   "id": "a1651d93-727f-4e5b-b803-49f78313136c",
   "metadata": {},
   "outputs": [
    {
     "name": "stdout",
     "output_type": "stream",
     "text": [
      "Welcome to JupyROOT 6.27/01\n"
     ]
    }
   ],
   "source": [
    "import ROOT\n",
    "import os\n",
    "from dask.distributed import Client\n",
    "\n",
    "nmaxpartitions = 50\n",
    "sched_port = 25501"
   ]
  },
  {
   "cell_type": "markdown",
   "id": "ba923a75",
   "metadata": {},
   "source": [
    "## Declare custom functions defined in utils.h"
   ]
  },
  {
   "cell_type": "code",
   "execution_count": 2,
   "id": "f83c9adf",
   "metadata": {},
   "outputs": [
    {
     "name": "stderr",
     "output_type": "stream",
     "text": [
      "/usr/local/lib/python3.8/dist-packages/distributed/client.py:1128: VersionMismatchWarning: Mismatched versions found\n",
      "\n",
      "+---------+--------+-----------+---------+\n",
      "| Package | client | scheduler | workers |\n",
      "+---------+--------+-----------+---------+\n",
      "| msgpack | 1.0.3  | 1.0.2     | 1.0.3   |\n",
      "| toolz   | 0.11.2 | 0.11.1    | 0.11.2  |\n",
      "+---------+--------+-----------+---------+\n",
      "Notes: \n",
      "-  msgpack: Variation is ok, as long as everything is above 0.6\n",
      "  warnings.warn(version_module.VersionMismatchWarning(msg[0][\"warning\"]))\n"
     ]
    }
   ],
   "source": [
    "text_file = open(\"utils.h\", \"r\")\n",
    "data = text_file.read()\n",
    "\n",
    "\n",
    "def my_initialization_function():\n",
    "    ROOT.gInterpreter.Declare('{}'.format(data))\n",
    "\n",
    "client = Client(address=\"tcp://127.0.0.1:\"+str(sched_port))\n",
    "ROOT.RDF.Experimental.Distributed.initialize(my_initialization_function)"
   ]
  },
  {
   "cell_type": "markdown",
   "id": "d642e3f0",
   "metadata": {},
   "source": [
    "## Define chain of rootfiles to analyze"
   ]
  },
  {
   "cell_type": "code",
   "execution_count": 3,
   "id": "a8b210e5-d575-437e-bd20-3adbeec914d1",
   "metadata": {},
   "outputs": [],
   "source": [
    "chain = [\n",
    "         #\"root://eospublic.cern.ch//eos/root-eos/benchmark/CMSOpenDataHiggsTauTau/W1JetsToLNu.root\",\n",
    "         \"root://eospublic.cern.ch//eos/root-eos/benchmark/CMSOpenDataHiggsTauTau/W2JetsToLNu.root\",\n",
    "         \"root://eospublic.cern.ch//eos/root-eos/benchmark/CMSOpenDataHiggsTauTau/W3JetsToLNu.root\",\n",
    "        ]"
   ]
  },
  {
   "cell_type": "markdown",
   "id": "bf299b24-6b9b-4514-b8cb-2148c1d5fc58",
   "metadata": {},
   "source": [
    "## Do analysis"
   ]
  },
  {
   "cell_type": "code",
   "execution_count": 4,
   "id": "b72d3fd3-06c3-441e-aba2-729e63baad0d",
   "metadata": {},
   "outputs": [
    {
     "name": "stderr",
     "output_type": "stream",
     "text": [
      "/usr/local/lib/python3.8/dist-packages/dask_jobqueue/core.py:20: FutureWarning: tmpfile is deprecated and will be removed in a future release. Please use dask.utils.tmpfile instead.\n",
      "  from distributed.utils import tmpfile\n"
     ]
    }
   ],
   "source": [
    "df = ROOT.RDF.Experimental.Distributed.Dask.RDataFrame(\"Events\", chain, npartitions=nmaxpartitions, daskclient=client)   \n",
    "\n",
    "df_varied = df.Vary(\"Muon_pt\", \"ROOT::VecOps::RVec<ROOT::VecOps::RVec<float>>{Muon_pt*0.8, Muon_pt*1.2}\", variationTags=[\"down\", \"up\"], variationName=\"dummyVariation\")\n",
    "\n",
    "df_atleast2Jets = df_varied.Filter(\"nJet>=2\", \"At least two jets\")\n",
    "df_GoodJets = df_atleast2Jets.Define(\"GoodJets_idx\", \"GoodJets(Jet_eta, Jet_pt, Jet_puId)\")\n",
    "df_atleast2GoodJets = df_GoodJets.Filter(\"atleast2GoodJets(GoodJets_idx)\", \"At least two good jets\")\n",
    "df_VBSjets = df_atleast2GoodJets.Define(\"VBSJet_idx\", \"SelectVBSJets_invmass(Jet_pt, Jet_eta, Jet_phi, Jet_mass, GoodJets_idx)\")\n",
    "df_2VBSjets = df_VBSjets.Filter(\"VBSJet_idx[0] != VBSJet_idx[1]\", \"2 VBS jets\")\n",
    "df_jetsDefinitions = df_2VBSjets.Define(\"leadjet_pt\", \"Jet_pt[VBSJet_idx[0]]\")\\\n",
    "                                .Define(\"leadjet_eta\", \"Jet_eta[VBSJet_idx[0]]\")\\\n",
    "                                .Define(\"leadjet_phi\", \"Jet_phi[VBSJet_idx[0]]\")\\\n",
    "                                .Define(\"leadjet_mass\", \"Jet_mass[VBSJet_idx[0]]\")\\\n",
    "                                .Define(\"subleadjet_pt\", \"Jet_pt[VBSJet_idx[1]]\")\\\n",
    "                                .Define(\"subleadjet_eta\", \"Jet_eta[VBSJet_idx[1]]\")\\\n",
    "                                .Define(\"subleadjet_phi\", \"Jet_phi[VBSJet_idx[1]]\")\\\n",
    "                                .Define(\"subleadjet_mass\", \"Jet_mass[VBSJet_idx[1]]\")\\\n",
    "\n",
    "df_selectMuon = df_jetsDefinitions.Define(\"Muon_idx\", \"SelectMuon(Muon_pt, Muon_eta, Muon_phi, Jet_eta, Jet_phi, VBSJet_idx)\")\n",
    "df_compatibleLeptons = df_selectMuon.Filter(\"Muon_idx[1] != -1\", \"Filter on leptons\")\n",
    "df_leptonDefinitions = df_compatibleLeptons.Define(\"lepton_pt\", \"Muon_pt[Muon_idx[0]]\")\\\n",
    "                                           .Define(\"lepton_eta\", \"Muon_eta[Muon_idx[0]]\")\\\n",
    "                                           .Define(\"lepton_phi\", \" Muon_phi[Muon_idx[0]]\")\\\n",
    "                                           .Define(\"lepton_mass\", \"Muon_mass[Muon_idx[0]]\")\\\n",
    "\n",
    "df_selectTau = df_leptonDefinitions.Define(\"Tau_idx\", \"SelectAndVetoTaus(Tau_pt, Tau_eta, Tau_phi, Muon_idx, Muon_eta, Muon_phi, Jet_eta, Jet_phi, VBSJet_idx)\")\n",
    "df_1tau = df_selectTau.Filter(\"Tau_idx[1] != -1\", \"Exactly 1 Tau\")\n",
    "df_tauDefinitions = df_1tau.Define(\"tau_pt\", \"Tau_pt[Tau_idx[0]]\")\\\n",
    "                           .Define(\"tau_eta\", \"Tau_eta[Tau_idx[0]]\")\\\n",
    "                           .Define(\"tau_phi\", \"Tau_phi[Tau_idx[0]]\")\\\n",
    "                           .Define(\"tau_mass\", \"Tau_mass[Tau_idx[0]]\")\\\n",
    "\n",
    "df_selection = df_tauDefinitions.Define(\"m_jjtaulep\",\"GetInvMass(leadjet_pt, leadjet_eta, leadjet_phi, leadjet_mass, subleadjet_pt, subleadjet_eta, subleadjet_phi, subleadjet_mass, tau_pt, tau_eta, tau_phi, tau_mass, lepton_pt, lepton_eta, lepton_phi, lepton_mass)\")\n",
    "\n",
    "h = df_selection.Histo1D((\"m_jjtaulep\", \"\" , 10, 0, 3000), \"m_jjtaulep\")"
   ]
  },
  {
   "cell_type": "markdown",
   "id": "59fc65b0-3ccb-4f38-a1b2-56bc749852b5",
   "metadata": {},
   "source": [
    "## Do systematic variations"
   ]
  },
  {
   "cell_type": "code",
   "execution_count": 5,
   "id": "7d3cbd20-0b44-42a4-9343-9ccaedf9eb91",
   "metadata": {},
   "outputs": [],
   "source": [
    "h_varied = ROOT.RDF.Experimental.Distributed.VariationsFor(h)"
   ]
  },
  {
   "cell_type": "markdown",
   "id": "f1a73735-0f44-419e-ab20-c1ec88e98482",
   "metadata": {},
   "source": [
    "## Draw nominal and varied histos\n",
    "N.B. no proper event weighting here, just for example purposes"
   ]
  },
  {
   "cell_type": "code",
   "execution_count": 6,
   "id": "9bcc086c-10a2-46d1-9ef0-f490a3e6da86",
   "metadata": {},
   "outputs": [
    {
     "name": "stdout",
     "output_type": "stream",
     "text": [
      "CPU times: user 1.45 s, sys: 277 ms, total: 1.73 s\n",
      "Wall time: 2min 12s\n"
     ]
    },
    {
     "data": {
      "image/png": "[encoded data removed]",
      "text/plain": [
       "<IPython.core.display.Image object>"
      ]
     },
     "metadata": {},
     "output_type": "display_data"
    }
   ],
   "source": [
    "%%time\n",
    "c = ROOT.TCanvas()\n",
    "h_varied[\"dummyVariation:up\"].SetLineColor(1)\n",
    "h_varied[\"dummyVariation:up\"].Draw()\n",
    "h_varied[\"nominal\"].SetLineColor(2)\n",
    "h_varied[\"nominal\"].Draw('SAME')\n",
    "h_varied[\"dummyVariation:down\"].SetLineColor(3)\n",
    "h_varied[\"dummyVariation:down\"].Draw('SAME')\n",
    "c.Draw()"
   ]
  }
 ],
 "metadata": {
  "kernelspec": {
   "display_name": "Singularity Python 3 (ipykernel)",
   "language": "python",
   "name": "singularity-kernel"
  },
  "language_info": {
   "codemirror_mode": {
    "name": "ipython",
    "version": 3
   },
   "file_extension": ".py",
   "mimetype": "text/x-python",
   "name": "python",
   "nbconvert_exporter": "python",
   "pygments_lexer": "ipython3",
   "version": "3.8.10"
  }
 },
 "nbformat": 4,
 "nbformat_minor": 5
}
