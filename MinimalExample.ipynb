{
 "cells": [
  {
   "cell_type": "markdown",
   "id": "cc67a159-90e3-48fe-b8a5-ffa680763e3f",
   "metadata": {},
   "source": [
    "## Deploy Dask cluster on HTCondor (a Dask scheduler and a Dask worker are deployed as HTCondor Jobs )"
   ]
  },
  {
   "cell_type": "code",
   "execution_count": 1,
   "id": "0c83e0f2-4d0b-4fce-aa78-9e5141a4ca64",
   "metadata": {},
   "outputs": [],
   "source": [
    "from dask_remote_jobqueue import RemoteHTCondor\n",
    "cluster = RemoteHTCondor()"
   ]
  },
  {
   "cell_type": "markdown",
   "id": "7c4b02aa-67f9-4696-b61c-a2f8adc915c5",
   "metadata": {},
   "source": [
    "## Initialize the Dask client"
   ]
  },
  {
   "cell_type": "code",
   "execution_count": 2,
   "id": "3000f0b0-9924-4118-8026-7336b5166e44",
   "metadata": {},
   "outputs": [],
   "source": [
    "from dask.distributed import Client\n",
    "client = Client(address=\"tcp://127.0.0.1:\"+str(cluster.sched_port))"
   ]
  },
  {
   "cell_type": "markdown",
   "id": "621c845b-2b04-4b1a-bf04-2025b1a5817c",
   "metadata": {},
   "source": [
    "## Inspect the Dask cluster"
   ]
  },
  {
   "cell_type": "code",
   "execution_count": 3,
   "id": "dfc61334-7e45-4e2a-9ded-d12ac30b5bc6",
   "metadata": {},
   "outputs": [
    {
     "data": {
      "text/html": [
       "<table style=\"border: 2px solid white;\">\n",
       "<tr>\n",
       "<td style=\"vertical-align: top; border: 0px solid white\">\n",
       "<h3 style=\"text-align: left;\">Client</h3>\n",
       "<ul style=\"text-align: left; list-style: none; margin: 0; padding: 0;\">\n",
       "  <li><b>Scheduler: </b>tcp://127.0.0.1:26449</li>\n",
       "  <li><b>Dashboard: </b><a href='http://127.0.0.1:31265/status' target='_blank'>http://127.0.0.1:31265/status</a></li>\n",
       "</ul>\n",
       "</td>\n",
       "<td style=\"vertical-align: top; border: 0px solid white\">\n",
       "<h3 style=\"text-align: left;\">Cluster</h3>\n",
       "<ul style=\"text-align: left; list-style:none; margin: 0; padding: 0;\">\n",
       "  <li><b>Workers: </b>0</li>\n",
       "  <li><b>Cores: </b>0</li>\n",
       "  <li><b>Memory: </b>0 B</li>\n",
       "</ul>\n",
       "</td>\n",
       "</tr>\n",
       "</table>"
      ],
      "text/plain": [
       "<Client: 'tcp://10.244.4.77:26449' processes=0 threads=0, memory=0 B>"
      ]
     },
     "execution_count": 3,
     "metadata": {},
     "output_type": "execute_result"
    }
   ],
   "source": [
    "client"
   ]
  },
  {
   "cell_type": "markdown",
   "id": "15846523-918f-4a29-a2f5-6f28f34f0cfa",
   "metadata": {},
   "source": [
    "## Declare your custom functions inside an initialization function\n",
    "This function is used to initialize each worker process. This is necessary since ```ROOT.gInterpreter.Declare()``` has effect only on the local C++ interpreter. Here you should declare all custom functions that you plan to use in the analysis. In this example, a ```CountGoodMuons(const RVec<float> &pt)``` function is defined that will be used for a ```Define``` of a new column of the DataFrame."
   ]
  },
  {
   "cell_type": "code",
   "execution_count": 4,
   "id": "96416631-f907-4157-acc5-95d667635f82",
   "metadata": {},
   "outputs": [
    {
     "name": "stdout",
     "output_type": "stream",
     "text": [
      "Welcome to JupyROOT 6.25/01\n"
     ]
    }
   ],
   "source": [
    "import ROOT\n",
    "\n",
    "def my_initialization_function():\n",
    "  ROOT.gInterpreter.Declare(\"\"\"\n",
    "  #include \"ROOT/RVec.hxx\"\n",
    "  using namespace ROOT::VecOps;\n",
    "  \n",
    "  size_t CountGoodMuons(const RVec<float> &pt){\n",
    "    size_t n = 0;\n",
    "    for (size_t i = 0; i < pt.size(); i++) {\n",
    "        if (pt[i] > 50) n++;\n",
    "    }\n",
    "    return n;\n",
    "  }\n",
    "  \"\"\")\n",
    "\n",
    "#### you can also declare functions inside a myfunctions.h file like this: #####\n",
    "# text_file = open(\"myfunctions.h\", \"r\")\n",
    "# data = text_file.read()\n",
    "# def my_initialization_function():\n",
    "#    ROOT.gInterpreter.Declare('{}'.format(data))\n",
    "\n",
    "ROOT.RDF.Experimental.Distributed.initialize(my_initialization_function)"
   ]
  },
  {
   "cell_type": "markdown",
   "id": "30bf639e-8aa1-4faf-b3ed-13442243ffdf",
   "metadata": {},
   "source": [
    "## Create DataFrame and book actions and transformations - no custom functions\n",
    "Here is an example of how to use ```Define``` and ```Filter``` using simple simple algebraic expressions: create a new column, ```nLightLepton```, which contains the sum of ```nMuon``` and ```nElectron``` in the event and keep events in which ```nLightLepton``` is greater or equal to 5"
   ]
  },
  {
   "cell_type": "code",
   "execution_count": 5,
   "id": "38e7ccf3-4a52-4e94-9aa0-d0900ccf5671",
   "metadata": {},
   "outputs": [],
   "source": [
    "import ROOT \n",
    " \n",
    "# Create dataframe from NanoAOD files\n",
    "df = ROOT.RDF.Experimental.Distributed.Dask.RDataFrame(\"Events\", \"https://ttedesch.web.cern.ch/ttedesch/cms_opendata_2012_nanoaod_skimmed/Run2012C_DoubleMuParked.root\", npartitions=1, daskclient=client)\n",
    "df_defined = df.Define(\"nLightLepton\", \"nMuon + nElectron\")\n",
    "df_filtered = df_defined.Filter(\"nLightLepton >= 5\", \"Filter events with at least 5 light leptons\")\n",
    "h = df_filtered.Histo1D((\"nLightLepton\",\"nLightLepton; nLightLepton ;N_{Events}\",10,0,10),\"nLightLepton\")"
   ]
  },
  {
   "cell_type": "markdown",
   "id": "aa784ca9-a370-499a-933e-0eb3fb7efb49",
   "metadata": {},
   "source": [
    "## Draw histo (the event loop is triggered here)\n",
    "A simple histogram of the newly-defined variable"
   ]
  },
  {
   "cell_type": "code",
   "execution_count": 6,
   "id": "76e5d331-cc8c-4901-a26c-732c7829bec9",
   "metadata": {},
   "outputs": [
    {
     "data": {
      "image/png": "[encoded data removed]",
      "text/plain": [
       "<IPython.core.display.Image object>"
      ]
     },
     "metadata": {},
     "output_type": "display_data"
    }
   ],
   "source": [
    "ROOT.gStyle.SetOptStat(0); ROOT.gStyle.SetTextFont(42)\n",
    "c = ROOT.TCanvas(\"c\", \"\", 800, 700)\n",
    "h.SetTitle(\"\")\n",
    "h.GetXaxis().SetTitleSize(0.04)\n",
    "h.GetYaxis().SetTitleSize(0.04)\n",
    "h.Draw()\n",
    "c.Draw()"
   ]
  },
  {
   "cell_type": "markdown",
   "id": "391cf4e3-2706-4360-b9ad-1f7b3d0b3b44",
   "metadata": {},
   "source": [
    "## Create DataFrame and book actions and transformations - use custom function defined in my_initialization_function()\n",
    "Here the ```Define``` action uses the ```CountGoodMuons(Muon_pt)``` function (declared to the C++ interpreter in ```my_initialization_function()```) which loops over all Muon pts in the event and counts how many muons have a pt greater than 50 GeV. Then a simple ```Filter``` action is booked: only events with at least one muon with pt greater than 50 GeV are kept. "
   ]
  },
  {
   "cell_type": "code",
   "execution_count": 7,
   "id": "eb9be544-abac-4741-85a1-4ac9e4a5d01a",
   "metadata": {},
   "outputs": [],
   "source": [
    "import ROOT \n",
    " \n",
    "# Create dataframe from NanoAOD files\n",
    "df = ROOT.RDF.Experimental.Distributed.Dask.RDataFrame(\"Events\", \"https://ttedesch.web.cern.ch/ttedesch/cms_opendata_2012_nanoaod_skimmed/Run2012C_DoubleMuParked.root\", npartitions=1, daskclient=client)\n",
    "df_defined = df.Define(\"nMuons_over50\", \"CountGoodMuons(Muon_pt)\")\n",
    "df_filtered = df_defined.Filter(\"nMuons_over50 > 0\", \"Filter events with at least 1 muon with pt>50 GeV\")\n",
    "h = df_filtered.Histo1D((\"nMuons_over50\",\"nMuons_over50; nMuons_over50 ;N_{Events}\",5,0,5),\"nMuons_over50\")"
   ]
  },
  {
   "cell_type": "markdown",
   "id": "20427df0-e93c-4c16-a3da-1b865c65dbee",
   "metadata": {},
   "source": [
    "## Draw histo (the event loop is triggered here)\n",
    "A simple histogram of the newly-defined variable."
   ]
  },
  {
   "cell_type": "code",
   "execution_count": 8,
   "id": "35b8075c-89d5-4407-953d-7b10180dcbda",
   "metadata": {},
   "outputs": [
    {
     "data": {
      "image/png": "[encoded data removed]",
      "text/plain": [
       "<IPython.core.display.Image object>"
      ]
     },
     "metadata": {},
     "output_type": "display_data"
    }
   ],
   "source": [
    "ROOT.gStyle.SetOptStat(0); ROOT.gStyle.SetTextFont(42)\n",
    "c1 = ROOT.TCanvas(\"c1\", \"\", 800, 700)\n",
    "h.SetTitle(\"\")\n",
    "h.GetXaxis().SetTitleSize(0.04)\n",
    "h.GetYaxis().SetTitleSize(0.04)\n",
    "h.Draw()\n",
    "c1.Draw()"
   ]
  },
  {
   "cell_type": "code",
   "execution_count": null,
   "id": "27c2be5a-c811-4375-b535-895792160da1",
   "metadata": {},
   "outputs": [],
   "source": []
  }
 ],
 "metadata": {
  "kernelspec": {
   "display_name": "Python 3",
   "language": "python",
   "name": "python3"
  },
  "language_info": {
   "codemirror_mode": {
    "name": "ipython",
    "version": 3
   },
   "file_extension": ".py",
   "mimetype": "text/x-python",
   "name": "python",
   "nbconvert_exporter": "python",
   "pygments_lexer": "ipython3",
   "version": "3.6.8"
  }
 },
 "nbformat": 4,
 "nbformat_minor": 5
}
